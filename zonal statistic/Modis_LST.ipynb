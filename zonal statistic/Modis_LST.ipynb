{
 "cells": [
  {
   "cell_type": "code",
   "execution_count": 1,
   "id": "7ab85dc1",
   "metadata": {},
   "outputs": [],
   "source": [
    "from datetime import datetime, timedelta\n",
    "import os\n",
    "\n",
    "from ipyfilechooser import FileChooser\n",
    "import ipywidgets as widgets\n",
    "import pandas as pd\n",
    "import geemap\n",
    "import ee\n",
    "\n",
    "from setting.utils import SelectFilesButton, monthlist, date_format_concersion, read_shp_date_data, read_bands_statics, make_temp_file, cbind_modis_lst\n",
    "from setting.config import settings\n",
    "\n",
    "from setting.bands import lst_filter, lst_day, lst_night, lst_mean"
   ]
  },
  {
   "cell_type": "code",
   "execution_count": 2,
   "id": "b1ab621b",
   "metadata": {},
   "outputs": [
    {
     "data": {
      "text/html": [
       "\n",
       "            <style>\n",
       "                .geemap-dark {\n",
       "                    --jp-widgets-color: white;\n",
       "                    --jp-widgets-label-color: white;\n",
       "                    --jp-ui-font-color1: white;\n",
       "                    --jp-layout-color2: #454545;\n",
       "                    background-color: #383838;\n",
       "                }\n",
       "\n",
       "                .geemap-dark .jupyter-button {\n",
       "                    --jp-layout-color3: #383838;\n",
       "                }\n",
       "\n",
       "                .geemap-colab {\n",
       "                    background-color: var(--colab-primary-surface-color, white);\n",
       "                }\n",
       "\n",
       "                .geemap-colab .jupyter-button {\n",
       "                    --jp-layout-color3: var(--colab-primary-surface-color, white);\n",
       "                }\n",
       "            </style>\n",
       "            "
      ],
      "text/plain": [
       "<IPython.core.display.HTML object>"
      ]
     },
     "metadata": {},
     "output_type": "display_data"
    },
    {
     "data": {
      "text/html": [
       "<p>To authorize access needed by Earth Engine, open the following\n",
       "        URL in a web browser and follow the instructions:</p>\n",
       "        <p><a href=https://code.earthengine.google.com/client-auth?scopes=https%3A//www.googleapis.com/auth/earthengine%20https%3A//www.googleapis.com/auth/cloud-platform%20https%3A//www.googleapis.com/auth/devstorage.full_control&request_id=d4Iz0rYmjjbFMZ_4Gg5St55mx36_vrqmYk0S0HLHDVA&tc=-Ng6zuExD3EEyVDtROzAmfG_9nvY4h3-lWCJigW5j-c&cc=ukn5mXt3iaJjnKikKGWSAvJMCqF4CeV8O6I0c2g0__o>https://code.earthengine.google.com/client-auth?scopes=https%3A//www.googleapis.com/auth/earthengine%20https%3A//www.googleapis.com/auth/cloud-platform%20https%3A//www.googleapis.com/auth/devstorage.full_control&request_id=d4Iz0rYmjjbFMZ_4Gg5St55mx36_vrqmYk0S0HLHDVA&tc=-Ng6zuExD3EEyVDtROzAmfG_9nvY4h3-lWCJigW5j-c&cc=ukn5mXt3iaJjnKikKGWSAvJMCqF4CeV8O6I0c2g0__o</a></p>\n",
       "        <p>The authorization workflow will generate a code, which you should paste in the box below.</p>\n",
       "        "
      ],
      "text/plain": [
       "<IPython.core.display.HTML object>"
      ]
     },
     "metadata": {},
     "output_type": "display_data"
    },
    {
     "name": "stdin",
     "output_type": "stream",
     "text": [
      "Enter verification code:  4/1AQSTgQFFVxTHOI4eFu9IW557d4iCNzShFADE6USK4nl--w8rNVZDia1LToQ\n"
     ]
    },
    {
     "name": "stdout",
     "output_type": "stream",
     "text": [
      "\n",
      "Successfully saved authorization token.\n"
     ]
    }
   ],
   "source": [
    "# After executing this line of code for the first use, you can get the authentication number linked to Google.\n",
    "Map = geemap.Map()\n",
    "# Authenticate the Google earth engine with google account\n",
    "ee.Initialize() "
   ]
  },
  {
   "cell_type": "code",
   "execution_count": 3,
   "id": "6caf3ee7",
   "metadata": {},
   "outputs": [
    {
     "data": {
      "text/html": [
       "\n",
       "            <style>\n",
       "                .geemap-dark {\n",
       "                    --jp-widgets-color: white;\n",
       "                    --jp-widgets-label-color: white;\n",
       "                    --jp-ui-font-color1: white;\n",
       "                    --jp-layout-color2: #454545;\n",
       "                    background-color: #383838;\n",
       "                }\n",
       "\n",
       "                .geemap-dark .jupyter-button {\n",
       "                    --jp-layout-color3: #383838;\n",
       "                }\n",
       "\n",
       "                .geemap-colab {\n",
       "                    background-color: var(--colab-primary-surface-color, white);\n",
       "                }\n",
       "\n",
       "                .geemap-colab .jupyter-button {\n",
       "                    --jp-layout-color3: var(--colab-primary-surface-color, white);\n",
       "                }\n",
       "            </style>\n",
       "            "
      ],
      "text/plain": [
       "<IPython.core.display.HTML object>"
      ]
     },
     "metadata": {},
     "output_type": "display_data"
    },
    {
     "data": {
      "application/vnd.jupyter.widget-view+json": {
       "model_id": "a89937ffbf604260838260c6cdafd3c8",
       "version_major": 2,
       "version_minor": 0
      },
      "text/plain": [
       "SelectFilesButton(description='Select Files', icon='square-o', style=ButtonStyle(button_color='orange'))"
      ]
     },
     "execution_count": 3,
     "metadata": {},
     "output_type": "execute_result"
    }
   ],
   "source": [
    "my_button = SelectFilesButton()\n",
    "my_button"
   ]
  },
  {
   "cell_type": "code",
   "execution_count": 5,
   "id": "dd3fc2d1",
   "metadata": {},
   "outputs": [
    {
     "data": {
      "text/html": [
       "\n",
       "            <style>\n",
       "                .geemap-dark {\n",
       "                    --jp-widgets-color: white;\n",
       "                    --jp-widgets-label-color: white;\n",
       "                    --jp-ui-font-color1: white;\n",
       "                    --jp-layout-color2: #454545;\n",
       "                    background-color: #383838;\n",
       "                }\n",
       "\n",
       "                .geemap-dark .jupyter-button {\n",
       "                    --jp-layout-color3: #383838;\n",
       "                }\n",
       "\n",
       "                .geemap-colab {\n",
       "                    background-color: var(--colab-primary-surface-color, white);\n",
       "                }\n",
       "\n",
       "                .geemap-colab .jupyter-button {\n",
       "                    --jp-layout-color3: var(--colab-primary-surface-color, white);\n",
       "                }\n",
       "            </style>\n",
       "            "
      ],
      "text/plain": [
       "<IPython.core.display.HTML object>"
      ]
     },
     "metadata": {},
     "output_type": "display_data"
    },
    {
     "data": {
      "application/vnd.jupyter.widget-view+json": {
       "model_id": "1e624b64bf1741eab4950b8f14a03c91",
       "version_major": 2,
       "version_minor": 0
      },
      "text/plain": [
       "HBox(children=(Dropdown(description='Regional category', options=('DeletionFlag', 'U_ID', 'CODEBASE', 'CODE1',…"
      ]
     },
     "execution_count": 5,
     "metadata": {},
     "output_type": "execute_result"
    }
   ],
   "source": [
    "file_name, start, end = read_shp_date_data(my_button)\n",
    "widgets.HBox([file_name, start, end])"
   ]
  },
  {
   "cell_type": "code",
   "execution_count": 6,
   "id": "6322bd60",
   "metadata": {},
   "outputs": [
    {
     "data": {
      "text/html": [
       "\n",
       "            <style>\n",
       "                .geemap-dark {\n",
       "                    --jp-widgets-color: white;\n",
       "                    --jp-widgets-label-color: white;\n",
       "                    --jp-ui-font-color1: white;\n",
       "                    --jp-layout-color2: #454545;\n",
       "                    background-color: #383838;\n",
       "                }\n",
       "\n",
       "                .geemap-dark .jupyter-button {\n",
       "                    --jp-layout-color3: #383838;\n",
       "                }\n",
       "\n",
       "                .geemap-colab {\n",
       "                    background-color: var(--colab-primary-surface-color, white);\n",
       "                }\n",
       "\n",
       "                .geemap-colab .jupyter-button {\n",
       "                    --jp-layout-color3: var(--colab-primary-surface-color, white);\n",
       "                }\n",
       "            </style>\n",
       "            "
      ],
      "text/plain": [
       "<IPython.core.display.HTML object>"
      ]
     },
     "metadata": {},
     "output_type": "display_data"
    },
    {
     "data": {
      "application/vnd.jupyter.widget-view+json": {
       "model_id": "d604e3f9200f4b52943e721da2bf1c63",
       "version_major": 2,
       "version_minor": 0
      },
      "text/plain": [
       "HBox(children=(SelectMultiple(description='Band', options=('LST_Day', 'LST_Night', 'LST_Mean'), value=()), Dro…"
      ]
     },
     "execution_count": 6,
     "metadata": {},
     "output_type": "execute_result"
    }
   ],
   "source": [
    "band_name, statics = read_bands_statics(settings.modis_lst_bands_list)\n",
    "widgets.HBox([band_name, statics])"
   ]
  },
  {
   "cell_type": "code",
   "execution_count": 7,
   "id": "54b0cebd",
   "metadata": {},
   "outputs": [
    {
     "data": {
      "text/html": [
       "\n",
       "            <style>\n",
       "                .geemap-dark {\n",
       "                    --jp-widgets-color: white;\n",
       "                    --jp-widgets-label-color: white;\n",
       "                    --jp-ui-font-color1: white;\n",
       "                    --jp-layout-color2: #454545;\n",
       "                    background-color: #383838;\n",
       "                }\n",
       "\n",
       "                .geemap-dark .jupyter-button {\n",
       "                    --jp-layout-color3: #383838;\n",
       "                }\n",
       "\n",
       "                .geemap-colab {\n",
       "                    background-color: var(--colab-primary-surface-color, white);\n",
       "                }\n",
       "\n",
       "                .geemap-colab .jupyter-button {\n",
       "                    --jp-layout-color3: var(--colab-primary-surface-color, white);\n",
       "                }\n",
       "            </style>\n",
       "            "
      ],
      "text/plain": [
       "<IPython.core.display.HTML object>"
      ]
     },
     "metadata": {},
     "output_type": "display_data"
    },
    {
     "data": {
      "application/vnd.jupyter.widget-view+json": {
       "model_id": "9cf6d41445954742beea751a4f5c8089",
       "version_major": 2,
       "version_minor": 0
      },
      "text/plain": [
       "FileChooser(path='C:\\Users\\Patrick\\Desktop\\zonal statistic\\zonal statistic', filename='', title='', show_hidde…"
      ]
     },
     "metadata": {},
     "output_type": "display_data"
    }
   ],
   "source": [
    "# give the output floder and flie name\n",
    "folder_name = make_temp_file('data_all_google_earth_engine_modis_lst')\n",
    "folder = FileChooser()\n",
    "display(folder)"
   ]
  },
  {
   "cell_type": "code",
   "execution_count": 8,
   "id": "6f237161",
   "metadata": {
    "scrolled": true
   },
   "outputs": [
    {
     "data": {
      "text/html": [
       "\n",
       "            <style>\n",
       "                .geemap-dark {\n",
       "                    --jp-widgets-color: white;\n",
       "                    --jp-widgets-label-color: white;\n",
       "                    --jp-ui-font-color1: white;\n",
       "                    --jp-layout-color2: #454545;\n",
       "                    background-color: #383838;\n",
       "                }\n",
       "\n",
       "                .geemap-dark .jupyter-button {\n",
       "                    --jp-layout-color3: #383838;\n",
       "                }\n",
       "\n",
       "                .geemap-colab {\n",
       "                    background-color: var(--colab-primary-surface-color, white);\n",
       "                }\n",
       "\n",
       "                .geemap-colab .jupyter-button {\n",
       "                    --jp-layout-color3: var(--colab-primary-surface-color, white);\n",
       "                }\n",
       "            </style>\n",
       "            "
      ],
      "text/plain": [
       "<IPython.core.display.HTML object>"
      ]
     },
     "metadata": {},
     "output_type": "display_data"
    },
    {
     "name": "stdout",
     "output_type": "stream",
     "text": [
      "Computing statistics ...\n",
      "Generating URL ...\n",
      "Downloading data from https://earthengine.googleapis.com/v1/projects/669600520351/tables/d6f1a1f433008de28441ab1cf2178122-62d4ea94d5cf1ecf947c193abbdb9da8:getFeatures\n",
      "Please wait ...\n",
      "Data downloaded to C:\\Users\\Patrick\\Desktop\\zonal statistic\\zonal statistic\\data_all_google_earth_engine_modis_lst\\Modis_LST_MEAN.csv\n"
     ]
    }
   ],
   "source": [
    "time_list = monthlist(start.value, end.value)\n",
    "states = geemap.shp_to_ee(\"\".join(my_button.files))\n",
    "\n",
    "Modis_LST = ee.ImageCollection('MODIS/061/MOD11A2') \\\n",
    "                      .filter(ee.Filter.date(datetime.strptime(start.value.strftime(\"%Y-%m-%d\"), \"%Y-%m-%d\"), datetime.strptime(end.value.strftime(\"%Y-%m-%d\"),\"%Y-%m-%d\")+timedelta(days=1))) \\\n",
    "                      .filterBounds(states) \\\n",
    "                      .map(lst_filter) \\\n",
    "                      .map(lst_day) \\\n",
    "                      .map(lst_night) \\\n",
    "                      .map(lst_mean) \\\n",
    "                      .select(list(band_name.value)) \\\n",
    "                      .map(lambda image: image.clip(states)) \\\n",
    "                      .map(lambda image: image.reproject(crs=settings.crs))\n",
    "\n",
    "\n",
    "Modis_LST.toBands()\n",
    "out_dir = os.path.expanduser(folder_name)\n",
    "out_dem_stats = os.path.join(out_dir, 'Modis_LST_{}.csv'.format(statics.value))\n",
    "\n",
    "if not os.path.exists(out_dir):\n",
    "        os.makedirs(out_dir)\n",
    "        \n",
    "geemap.zonal_statistics(Modis_LST, states, out_dem_stats, statistics_type=statics.value, scale=1000)\n",
    "\n",
    "data_temp = pd.read_csv(out_dem_stats)\n",
    "\n",
    "data = []\n",
    "\n",
    "column_name_list = data_temp.columns.tolist()\n",
    "c = []\n",
    "d = []\n",
    "\n",
    "for k in zip(column_name_list[:]):\n",
    "        c.append(k[0][0])\n",
    "        d.append(k[0])\n",
    "\n",
    "        data = []\n",
    "for j in range(0, len(column_name_list), len(band_name.value)):\n",
    "\n",
    "        date_str = data_temp.columns[j][:10]\n",
    "\n",
    "        # 检查日期格式并提取数据\n",
    "        if all(m.isdigit() for m in c[j:j+len(band_name.value)]) == True:\n",
    "                \n",
    "                # 提取数据\n",
    "                df = data_temp.loc[:, d[j:j+len(band_name.value)]]\n",
    "\n",
    "                df[file_name.value] = data_temp.loc[:, [file_name.value]]\n",
    "                                \n",
    "                # 创建新的日期和DOY列\n",
    "                df.insert(0, 'Date', '')\n",
    "                df['Date'] = date_format_concersion(date_str, output_format='%Y/%m/%d')\n",
    "\n",
    "                df.insert(1, 'Doy', '')\n",
    "                df['Doy'] = datetime.strptime(date_str, '%Y_%m_%d').strftime('%j')\n",
    "                \n",
    "                # 重命名列\n",
    "                colnames = ['Date', 'Doy']\n",
    "                colnames.extend(list(band_name.value))\n",
    "                colnames.append(file_name.value)\n",
    "                df.columns = [colnames]\n",
    "                \n",
    "                data.append(df)\n",
    "        else:\n",
    "                continue\n",
    "\n",
    "appended_data = pd.concat(data, axis=0, ignore_index=True)\n",
    "\n",
    "appended_data.to_csv(out_dem_stats, index=False) #Output the file with date and doy back"
   ]
  },
  {
   "cell_type": "code",
   "execution_count": 9,
   "id": "f72ab1a2",
   "metadata": {},
   "outputs": [
    {
     "data": {
      "text/html": [
       "\n",
       "            <style>\n",
       "                .geemap-dark {\n",
       "                    --jp-widgets-color: white;\n",
       "                    --jp-widgets-label-color: white;\n",
       "                    --jp-ui-font-color1: white;\n",
       "                    --jp-layout-color2: #454545;\n",
       "                    background-color: #383838;\n",
       "                }\n",
       "\n",
       "                .geemap-dark .jupyter-button {\n",
       "                    --jp-layout-color3: #383838;\n",
       "                }\n",
       "\n",
       "                .geemap-colab {\n",
       "                    background-color: var(--colab-primary-surface-color, white);\n",
       "                }\n",
       "\n",
       "                .geemap-colab .jupyter-button {\n",
       "                    --jp-layout-color3: var(--colab-primary-surface-color, white);\n",
       "                }\n",
       "            </style>\n",
       "            "
      ],
      "text/plain": [
       "<IPython.core.display.HTML object>"
      ]
     },
     "metadata": {},
     "output_type": "display_data"
    }
   ],
   "source": [
    "cbind_modis_lst(statics.value, out_dir, band_name.value, folder)"
   ]
  },
  {
   "cell_type": "code",
   "execution_count": null,
   "id": "9825100c-3747-4855-b264-0e311c7357e9",
   "metadata": {},
   "outputs": [],
   "source": []
  }
 ],
 "metadata": {
  "hide_input": false,
  "kernelspec": {
   "display_name": "Python 3 (ipykernel)",
   "language": "python",
   "name": "python3"
  },
  "language_info": {
   "codemirror_mode": {
    "name": "ipython",
    "version": 3
   },
   "file_extension": ".py",
   "mimetype": "text/x-python",
   "name": "python",
   "nbconvert_exporter": "python",
   "pygments_lexer": "ipython3",
   "version": "3.10.16"
  },
  "toc": {
   "base_numbering": 1,
   "nav_menu": {},
   "number_sections": true,
   "sideBar": true,
   "skip_h1_title": false,
   "title_cell": "Table of Contents",
   "title_sidebar": "Contents",
   "toc_cell": false,
   "toc_position": {},
   "toc_section_display": true,
   "toc_window_display": false
  }
 },
 "nbformat": 4,
 "nbformat_minor": 5
}
