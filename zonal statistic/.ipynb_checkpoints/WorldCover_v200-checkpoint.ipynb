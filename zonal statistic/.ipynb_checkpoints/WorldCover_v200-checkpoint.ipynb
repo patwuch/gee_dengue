{
 "cells": [
  {
   "cell_type": "code",
   "execution_count": null,
   "metadata": {},
   "outputs": [],
   "source": [
    "from ipyfilechooser import FileChooser\n",
    "import ipywidgets as widgets\n",
    "import geemap\n",
    "import ee\n",
    "\n",
    "from setting.utils import SelectFilesButton, make_temp_file"
   ]
  },
  {
   "cell_type": "code",
   "execution_count": null,
   "metadata": {},
   "outputs": [],
   "source": [
    "# After executing this line of code for the first use, you can get the authentication number linked to Google.\n",
    "Map = geemap.Map()\n",
    "# Authenticate the Google earth engine with google account\n",
    "ee.Initialize() "
   ]
  },
  {
   "cell_type": "code",
   "execution_count": null,
   "metadata": {},
   "outputs": [],
   "source": [
    "my_button = SelectFilesButton()\n",
    "my_button"
   ]
  },
  {
   "cell_type": "code",
   "execution_count": null,
   "metadata": {},
   "outputs": [],
   "source": [
    "statics =widgets.Dropdown(\n",
    "    options=['SUM', 'PERCENTAGE'],\n",
    "    value='PERCENTAGE',\n",
    "    description='Statistics')\n",
    "\n",
    "statics"
   ]
  },
  {
   "cell_type": "code",
   "execution_count": null,
   "metadata": {},
   "outputs": [],
   "source": [
    "# give the output floder and flie name\n",
    "folder_name = make_temp_file('data_all_google_earth_engine_modis_ndvi_evi')\n",
    "folder = FileChooser()\n",
    "display(folder)"
   ]
  },
  {
   "cell_type": "code",
   "execution_count": null,
   "metadata": {},
   "outputs": [],
   "source": [
    "states = geemap.shp_to_ee(\"\".join(my_button.files))\n",
    "dataset = ee.ImageCollection(\"ESA/WorldCover/v200\").first()"
   ]
  },
  {
   "cell_type": "code",
   "execution_count": null,
   "metadata": {},
   "outputs": [],
   "source": [
    "geemap.zonal_statistics_by_group(dataset, states, folder.selected + '.csv', statistics_type=statics.value,decimal_places=2)"
   ]
  }
 ],
 "metadata": {
  "kernelspec": {
   "display_name": "Python 3",
   "language": "python",
   "name": "python3"
  },
  "language_info": {
   "name": "python",
   "version": "3.10.16"
  }
 },
 "nbformat": 4,
 "nbformat_minor": 2
}
