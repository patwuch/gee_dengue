{
 "cells": [
  {
   "cell_type": "code",
   "execution_count": 4,
   "id": "eb37c822",
   "metadata": {},
   "outputs": [
    {
     "data": {
      "text/html": [
       "\n",
       "            <style>\n",
       "                .geemap-dark {\n",
       "                    --jp-widgets-color: white;\n",
       "                    --jp-widgets-label-color: white;\n",
       "                    --jp-ui-font-color1: white;\n",
       "                    --jp-layout-color2: #454545;\n",
       "                    background-color: #383838;\n",
       "                }\n",
       "\n",
       "                .geemap-dark .jupyter-button {\n",
       "                    --jp-layout-color3: #383838;\n",
       "                }\n",
       "\n",
       "                .geemap-colab {\n",
       "                    background-color: var(--colab-primary-surface-color, white);\n",
       "                }\n",
       "\n",
       "                .geemap-colab .jupyter-button {\n",
       "                    --jp-layout-color3: var(--colab-primary-surface-color, white);\n",
       "                }\n",
       "            </style>\n",
       "            "
      ],
      "text/plain": [
       "<IPython.core.display.HTML object>"
      ]
     },
     "metadata": {},
     "output_type": "display_data"
    }
   ],
   "source": [
    "from datetime import datetime, timedelta\n",
    "import os\n",
    "\n",
    "from ipyfilechooser import FileChooser\n",
    "import ipywidgets as widgets\n",
    "import pandas as pd\n",
    "import geemap\n",
    "import ee\n",
    "\n",
    "from setting.utils import SelectFilesButton, monthlist, date_format_concersion, read_shp_date_data, read_bands_statics, make_temp_file, cbind_modis_ndvi_evi\n",
    "from setting.config import settings\n",
    "from setting.bands import maskModisQA"
   ]
  },
  {
   "cell_type": "code",
   "execution_count": 5,
   "id": "99a81354",
   "metadata": {},
   "outputs": [
    {
     "data": {
      "text/html": [
       "\n",
       "            <style>\n",
       "                .geemap-dark {\n",
       "                    --jp-widgets-color: white;\n",
       "                    --jp-widgets-label-color: white;\n",
       "                    --jp-ui-font-color1: white;\n",
       "                    --jp-layout-color2: #454545;\n",
       "                    background-color: #383838;\n",
       "                }\n",
       "\n",
       "                .geemap-dark .jupyter-button {\n",
       "                    --jp-layout-color3: #383838;\n",
       "                }\n",
       "\n",
       "                .geemap-colab {\n",
       "                    background-color: var(--colab-primary-surface-color, white);\n",
       "                }\n",
       "\n",
       "                .geemap-colab .jupyter-button {\n",
       "                    --jp-layout-color3: var(--colab-primary-surface-color, white);\n",
       "                }\n",
       "            </style>\n",
       "            "
      ],
      "text/plain": [
       "<IPython.core.display.HTML object>"
      ]
     },
     "metadata": {},
     "output_type": "display_data"
    }
   ],
   "source": [
    "# After executing this line of code for the first use, you can get the authentication number linked to Google.\n",
    "Map = geemap.Map()\n",
    "# Authenticate the Google earth engine with google account\n",
    "ee.Initialize() "
   ]
  },
  {
   "cell_type": "code",
   "execution_count": 3,
   "id": "646c4f52",
   "metadata": {},
   "outputs": [
    {
     "data": {
      "text/html": [
       "\n",
       "            <style>\n",
       "                .geemap-dark {\n",
       "                    --jp-widgets-color: white;\n",
       "                    --jp-widgets-label-color: white;\n",
       "                    --jp-ui-font-color1: white;\n",
       "                    --jp-layout-color2: #454545;\n",
       "                    background-color: #383838;\n",
       "                }\n",
       "\n",
       "                .geemap-dark .jupyter-button {\n",
       "                    --jp-layout-color3: #383838;\n",
       "                }\n",
       "\n",
       "                .geemap-colab {\n",
       "                    background-color: var(--colab-primary-surface-color, white);\n",
       "                }\n",
       "\n",
       "                .geemap-colab .jupyter-button {\n",
       "                    --jp-layout-color3: var(--colab-primary-surface-color, white);\n",
       "                }\n",
       "            </style>\n",
       "            "
      ],
      "text/plain": [
       "<IPython.core.display.HTML object>"
      ]
     },
     "metadata": {},
     "output_type": "display_data"
    },
    {
     "data": {
      "application/vnd.jupyter.widget-view+json": {
       "model_id": "b287102880f14375b2cb6ef7f1b684f2",
       "version_major": 2,
       "version_minor": 0
      },
      "text/plain": [
       "SelectFilesButton(description='Select Files', icon='square-o', style=ButtonStyle(button_color='orange'))"
      ]
     },
     "execution_count": 3,
     "metadata": {},
     "output_type": "execute_result"
    }
   ],
   "source": [
    "my_button = SelectFilesButton()\n",
    "my_button"
   ]
  },
  {
   "cell_type": "code",
   "execution_count": 6,
   "id": "88bbcd5d",
   "metadata": {},
   "outputs": [
    {
     "data": {
      "text/html": [
       "\n",
       "            <style>\n",
       "                .geemap-dark {\n",
       "                    --jp-widgets-color: white;\n",
       "                    --jp-widgets-label-color: white;\n",
       "                    --jp-ui-font-color1: white;\n",
       "                    --jp-layout-color2: #454545;\n",
       "                    background-color: #383838;\n",
       "                }\n",
       "\n",
       "                .geemap-dark .jupyter-button {\n",
       "                    --jp-layout-color3: #383838;\n",
       "                }\n",
       "\n",
       "                .geemap-colab {\n",
       "                    background-color: var(--colab-primary-surface-color, white);\n",
       "                }\n",
       "\n",
       "                .geemap-colab .jupyter-button {\n",
       "                    --jp-layout-color3: var(--colab-primary-surface-color, white);\n",
       "                }\n",
       "            </style>\n",
       "            "
      ],
      "text/plain": [
       "<IPython.core.display.HTML object>"
      ]
     },
     "metadata": {},
     "output_type": "display_data"
    },
    {
     "data": {
      "application/vnd.jupyter.widget-view+json": {
       "model_id": "32eb504cfa3a455d8df639356e1bd56b",
       "version_major": 2,
       "version_minor": 0
      },
      "text/plain": [
       "HBox(children=(Dropdown(description='Regional category', options=('DeletionFlag', 'U_ID', 'CODEBASE', 'CODE1',…"
      ]
     },
     "execution_count": 6,
     "metadata": {},
     "output_type": "execute_result"
    }
   ],
   "source": [
    "file_name, start, end = read_shp_date_data(my_button)\n",
    "widgets.HBox([file_name, start, end])"
   ]
  },
  {
   "cell_type": "code",
   "execution_count": 7,
   "id": "ac98714b",
   "metadata": {},
   "outputs": [
    {
     "data": {
      "text/html": [
       "\n",
       "            <style>\n",
       "                .geemap-dark {\n",
       "                    --jp-widgets-color: white;\n",
       "                    --jp-widgets-label-color: white;\n",
       "                    --jp-ui-font-color1: white;\n",
       "                    --jp-layout-color2: #454545;\n",
       "                    background-color: #383838;\n",
       "                }\n",
       "\n",
       "                .geemap-dark .jupyter-button {\n",
       "                    --jp-layout-color3: #383838;\n",
       "                }\n",
       "\n",
       "                .geemap-colab {\n",
       "                    background-color: var(--colab-primary-surface-color, white);\n",
       "                }\n",
       "\n",
       "                .geemap-colab .jupyter-button {\n",
       "                    --jp-layout-color3: var(--colab-primary-surface-color, white);\n",
       "                }\n",
       "            </style>\n",
       "            "
      ],
      "text/plain": [
       "<IPython.core.display.HTML object>"
      ]
     },
     "metadata": {},
     "output_type": "display_data"
    },
    {
     "data": {
      "application/vnd.jupyter.widget-view+json": {
       "model_id": "16f881f9542a49bcb185ef4d399d4eee",
       "version_major": 2,
       "version_minor": 0
      },
      "text/plain": [
       "HBox(children=(SelectMultiple(description='Band', options=('NDVI', 'EVI'), value=()), Dropdown(description='St…"
      ]
     },
     "execution_count": 7,
     "metadata": {},
     "output_type": "execute_result"
    }
   ],
   "source": [
    "band_name, statics = read_bands_statics(settings.modis_ndvi_evi_bands_list)\n",
    "widgets.HBox([band_name, statics])"
   ]
  },
  {
   "cell_type": "code",
   "execution_count": 8,
   "id": "d2da5108",
   "metadata": {},
   "outputs": [
    {
     "data": {
      "text/html": [
       "\n",
       "            <style>\n",
       "                .geemap-dark {\n",
       "                    --jp-widgets-color: white;\n",
       "                    --jp-widgets-label-color: white;\n",
       "                    --jp-ui-font-color1: white;\n",
       "                    --jp-layout-color2: #454545;\n",
       "                    background-color: #383838;\n",
       "                }\n",
       "\n",
       "                .geemap-dark .jupyter-button {\n",
       "                    --jp-layout-color3: #383838;\n",
       "                }\n",
       "\n",
       "                .geemap-colab {\n",
       "                    background-color: var(--colab-primary-surface-color, white);\n",
       "                }\n",
       "\n",
       "                .geemap-colab .jupyter-button {\n",
       "                    --jp-layout-color3: var(--colab-primary-surface-color, white);\n",
       "                }\n",
       "            </style>\n",
       "            "
      ],
      "text/plain": [
       "<IPython.core.display.HTML object>"
      ]
     },
     "metadata": {},
     "output_type": "display_data"
    },
    {
     "data": {
      "application/vnd.jupyter.widget-view+json": {
       "model_id": "a85c2751d08b435c91b3d13f15338719",
       "version_major": 2,
       "version_minor": 0
      },
      "text/plain": [
       "FileChooser(path='C:\\Users\\Patrick\\Desktop\\zonal statistic\\zonal statistic', filename='', title='', show_hidde…"
      ]
     },
     "metadata": {},
     "output_type": "display_data"
    }
   ],
   "source": [
    "# give the output floder and flie name\n",
    "folder_name = make_temp_file('data_all_google_earth_engine_modis_ndvi_evi')\n",
    "folder = FileChooser()\n",
    "display(folder)"
   ]
  },
  {
   "cell_type": "code",
   "execution_count": 9,
   "id": "e71952fd",
   "metadata": {},
   "outputs": [
    {
     "data": {
      "text/html": [
       "\n",
       "            <style>\n",
       "                .geemap-dark {\n",
       "                    --jp-widgets-color: white;\n",
       "                    --jp-widgets-label-color: white;\n",
       "                    --jp-ui-font-color1: white;\n",
       "                    --jp-layout-color2: #454545;\n",
       "                    background-color: #383838;\n",
       "                }\n",
       "\n",
       "                .geemap-dark .jupyter-button {\n",
       "                    --jp-layout-color3: #383838;\n",
       "                }\n",
       "\n",
       "                .geemap-colab {\n",
       "                    background-color: var(--colab-primary-surface-color, white);\n",
       "                }\n",
       "\n",
       "                .geemap-colab .jupyter-button {\n",
       "                    --jp-layout-color3: var(--colab-primary-surface-color, white);\n",
       "                }\n",
       "            </style>\n",
       "            "
      ],
      "text/plain": [
       "<IPython.core.display.HTML object>"
      ]
     },
     "metadata": {},
     "output_type": "display_data"
    },
    {
     "name": "stdout",
     "output_type": "stream",
     "text": [
      "Computing statistics ...\n",
      "Generating URL ...\n",
      "Downloading data from https://earthengine.googleapis.com/v1/projects/669600520351/tables/222b8414264a0e15666115ad45772200-c083b24c995f1c658bc35bfb2d431257:getFeatures\n",
      "Please wait ...\n",
      "Data downloaded to C:\\Users\\Patrick\\Desktop\\zonal statistic\\zonal statistic\\data_all_google_earth_engine_modis_ndvi_evi\\Modis_NDVI_EVI_MEAN.csv\n"
     ]
    }
   ],
   "source": [
    "time_list = monthlist(start.value, end.value)\n",
    "states = geemap.shp_to_ee(\"\".join(my_button.files))\n",
    "\n",
    "Modis_NDVI_EVI = ee.ImageCollection('MODIS/061/MOD13Q1') \\\n",
    "        .filter(ee.Filter.date(datetime.strptime(start.value.strftime(\"%Y-%m-%d\"), \"%Y-%m-%d\"), datetime.strptime(end.value.strftime(\"%Y-%m-%d\"),\"%Y-%m-%d\")+timedelta(days=1))) \\\n",
    "        .map(maskModisQA) \\\n",
    "        .map(lambda image: image.select(band_name.value)) \\\n",
    "        .map(lambda image: image.clip(states)) \\\n",
    "        .map(lambda image: image.reproject(crs=settings.crs))\n",
    "\n",
    "Modis_NDVI_EVI.toBands()\n",
    "out_dir = os.path.expanduser(folder_name)\n",
    "out_dem_stats = os.path.join(out_dir, 'Modis_NDVI_EVI_{}.csv'.format(statics.value))\n",
    "\n",
    "if not os.path.exists(out_dir):\n",
    "        os.makedirs(out_dir)\n",
    "        \n",
    "geemap.zonal_statistics(Modis_NDVI_EVI, states, out_dem_stats, statistics_type=statics.value, scale=1000)\n",
    "\n",
    "data_temp = pd.read_csv(out_dem_stats)\n",
    "\n",
    "data = []\n",
    "\n",
    "column_name_list = data_temp.columns.tolist()\n",
    "c = []\n",
    "d = []\n",
    "\n",
    "for k in zip(column_name_list[:]):\n",
    "        c.append(k[0][0])\n",
    "        d.append(k[0])\n",
    "\n",
    "        data = []\n",
    "for j in range(0, len(column_name_list), len(band_name.value)):\n",
    "\n",
    "        date_str = data_temp.columns[j][:10]\n",
    "\n",
    "        # 检查日期格式并提取数据\n",
    "        if all(m.isdigit() for m in c[j:j+len(band_name.value)]) == True:\n",
    "                \n",
    "                # 提取数据\n",
    "                df = data_temp.loc[:, d[j:j+len(band_name.value)]]\n",
    "\n",
    "                df[file_name.value] = data_temp.loc[:, [file_name.value]]\n",
    "                                \n",
    "                # 创建新的日期和DOY列\n",
    "                df.insert(0, 'Date', '')\n",
    "                df['Date'] = date_format_concersion(date_str, output_format='%Y/%m/%d')\n",
    "\n",
    "                df.insert(1, 'Doy', '')\n",
    "                df['Doy'] = datetime.strptime(date_str, '%Y_%m_%d').strftime('%j')\n",
    "                \n",
    "                # 重命名列\n",
    "                colnames = ['Date', 'Doy']\n",
    "                colnames.extend(list(band_name.value))\n",
    "                colnames.append(file_name.value)\n",
    "                df.columns = [colnames]\n",
    "                \n",
    "                data.append(df)\n",
    "        else:\n",
    "                continue\n",
    "\n",
    "appended_data = pd.concat(data, axis=0, ignore_index=True)\n",
    "\n",
    "appended_data.to_csv(out_dem_stats, index=False) #Output the file with date and doy back"
   ]
  },
  {
   "cell_type": "code",
   "execution_count": 10,
   "id": "407025a3",
   "metadata": {},
   "outputs": [
    {
     "data": {
      "text/html": [
       "\n",
       "            <style>\n",
       "                .geemap-dark {\n",
       "                    --jp-widgets-color: white;\n",
       "                    --jp-widgets-label-color: white;\n",
       "                    --jp-ui-font-color1: white;\n",
       "                    --jp-layout-color2: #454545;\n",
       "                    background-color: #383838;\n",
       "                }\n",
       "\n",
       "                .geemap-dark .jupyter-button {\n",
       "                    --jp-layout-color3: #383838;\n",
       "                }\n",
       "\n",
       "                .geemap-colab {\n",
       "                    background-color: var(--colab-primary-surface-color, white);\n",
       "                }\n",
       "\n",
       "                .geemap-colab .jupyter-button {\n",
       "                    --jp-layout-color3: var(--colab-primary-surface-color, white);\n",
       "                }\n",
       "            </style>\n",
       "            "
      ],
      "text/plain": [
       "<IPython.core.display.HTML object>"
      ]
     },
     "metadata": {},
     "output_type": "display_data"
    }
   ],
   "source": [
    "cbind_modis_ndvi_evi(statics.value, out_dir, band_name.value, folder)"
   ]
  },
  {
   "cell_type": "code",
   "execution_count": null,
   "id": "7a2c2d38-c2db-47a5-8e36-4318e6b1d077",
   "metadata": {},
   "outputs": [],
   "source": []
  }
 ],
 "metadata": {
  "kernelspec": {
   "display_name": "Python 3 (ipykernel)",
   "language": "python",
   "name": "python3"
  },
  "language_info": {
   "codemirror_mode": {
    "name": "ipython",
    "version": 3
   },
   "file_extension": ".py",
   "mimetype": "text/x-python",
   "name": "python",
   "nbconvert_exporter": "python",
   "pygments_lexer": "ipython3",
   "version": "3.10.16"
  },
  "toc": {
   "base_numbering": 1,
   "nav_menu": {},
   "number_sections": true,
   "sideBar": true,
   "skip_h1_title": false,
   "title_cell": "Table of Contents",
   "title_sidebar": "Contents",
   "toc_cell": false,
   "toc_position": {},
   "toc_section_display": true,
   "toc_window_display": false
  }
 },
 "nbformat": 4,
 "nbformat_minor": 5
}
