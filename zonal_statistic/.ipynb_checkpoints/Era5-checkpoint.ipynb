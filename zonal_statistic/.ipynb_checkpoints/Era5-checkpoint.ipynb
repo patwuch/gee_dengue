{
 "cells": [
  {
   "cell_type": "code",
   "execution_count": null,
   "metadata": {},
   "outputs": [],
   "source": [
    "from datetime import datetime, timedelta\n",
    "import os\n",
    "\n",
    "from ipyfilechooser import FileChooser\n",
    "import ipywidgets as widgets\n",
    "import pandas as pd\n",
    "import geemap\n",
    "import ee\n",
    "\n",
    "from setting.utils import SelectFilesButton, monthlist, date_format_concersion, read_shp_date_data, read_bands_statics, make_temp_file, cbind_era5\n",
    "from setting.config import settings"
   ]
  },
  {
   "cell_type": "markdown",
   "metadata": {},
   "source": [
    "##### 先跟Google Earth Engine取得init以及雲端專案連線"
   ]
  },
  {
   "cell_type": "code",
   "execution_count": null,
   "metadata": {},
   "outputs": [],
   "source": [
    "# After executing this line of code for the first use, you can get the authentication number linked to Google.\n",
    "Map = geemap.Map()\n",
    "# Authenticate the Google earth engine with google account\n",
    "ee.Initialize() "
   ]
  },
  {
   "cell_type": "markdown",
   "metadata": {},
   "source": [
    "先上傳要用的shapfile檔案  ```註:大小不可超過2.5MB```  "
   ]
  },
  {
   "cell_type": "code",
   "execution_count": null,
   "metadata": {},
   "outputs": [],
   "source": [
    "my_button = SelectFilesButton()\n",
    "my_button\n"
   ]
  },
  {
   "cell_type": "markdown",
   "metadata": {},
   "source": [
    "Regional category 這個欄位會讀取輸入的shp檔裡面所有欄位  \n",
    "選取要分析的欄位表  \n",
    "輸入起始日期跟結束日期\n",
    "```註:每個衛星程式的支援時間點都不太一樣```  \n",
    "這一支的網址是:[ERA5-Land Daily Aggregated - ECMWF Climate Reanalysis](https://developers.google.com/earth-engine/datasets/catalog/ECMWF_ERA5_LAND_DAILY_AGGR)"
   ]
  },
  {
   "cell_type": "code",
   "execution_count": null,
   "metadata": {},
   "outputs": [],
   "source": [
    "file_name, start, end = read_shp_date_data(my_button)\n",
    "widgets.HBox([file_name, start, end])"
   ]
  },
  {
   "cell_type": "markdown",
   "metadata": {},
   "source": [
    "選取需要得到的Band跟Zonal要做的統計值  \n",
    "```註:統計值一次只能選一個，但Band可以一次多個```"
   ]
  },
  {
   "cell_type": "code",
   "execution_count": null,
   "metadata": {},
   "outputs": [],
   "source": [
    "band_name, statics = read_bands_statics(settings.era5_bands_list)\n",
    "widgets.HBox([band_name, statics])"
   ]
  },
  {
   "cell_type": "markdown",
   "metadata": {},
   "source": [
    "建立temp table暫存fodler跟選擇要輸出檔案位置跟檔案名稱  \n",
    "```註:如果是用mac系統且vscode平台的話這個功能目前會無法使用，建議可以用Jupyter notebook開啟```"
   ]
  },
  {
   "cell_type": "code",
   "execution_count": null,
   "metadata": {},
   "outputs": [],
   "source": [
    "# give the output floder and flie name\n",
    "folder_name = make_temp_file('data_all_google_earth_engine_era5')\n",
    "folder = FileChooser()\n",
    "display(folder)"
   ]
  },
  {
   "cell_type": "code",
   "execution_count": null,
   "metadata": {},
   "outputs": [],
   "source": [
    "time_list = monthlist(start.value, end.value)\n",
    "states = geemap.shp_to_ee(\"\".join(my_button.files))\n",
    "\n",
    "for i in range(0, len(time_list)):\n",
    "    Era5 = ee.ImageCollection('ECMWF/ERA5_LAND/DAILY_AGGR') \\\n",
    "            .filter(ee.Filter.date(datetime.strptime(time_list[i][0], \"%Y-%m-%d\"), datetime.strptime(time_list[i][1],\"%Y-%m-%d\")+timedelta(days=1))) \\\n",
    "            .map(lambda image: image.select(band_name.value)) \\\n",
    "            .map(lambda image: image.clip(states)) \\\n",
    "            .map(lambda image: image.reproject(crs=settings.crs))\n",
    "\n",
    "    Era5.toBands()\n",
    "    out_dir = os.path.expanduser(folder_name)\n",
    "    out_dem_stats = os.path.join(out_dir, 'Era5_{}_{}.csv'.format(statics.value,time_list[i]))\n",
    "\n",
    "    if not os.path.exists(out_dir):\n",
    "            os.makedirs(out_dir)\n",
    "            \n",
    "    geemap.zonal_statistics(Era5, states, out_dem_stats, statistics_type=statics.value, scale=1000)\n",
    "\n",
    "    data_temp = pd.read_csv(out_dem_stats)\n",
    "\n",
    "    data = []\n",
    "\n",
    "    if (len(band_name.value)) == 1 & (time_list[i][0] == time_list[i][1]):\n",
    "\n",
    "        df = data_temp\n",
    "        df[file_name.value] = data_temp.loc[:,[file_name.value]]\n",
    "        df['Date'] = date_format_concersion(time_list[i][0], output_format='%Y/%m/%d')\n",
    "        df['Doy'] = datetime.strptime(time_list[i][0], '%Y-%m-%d').strftime('%j')\n",
    "        select_columns = ['Date', 'Doy'] + [item.lower() for item in [statics]] + [file_name.value]\n",
    "        df = df[select_columns]\n",
    "        new_columns = ['Date', 'Doy'] + band_name.value + [file_name.value]\n",
    "        df.columns = new_columns\n",
    "\n",
    "        data.append(df)\n",
    "\n",
    "    else:\n",
    "        column_name_list = data_temp.columns.tolist()\n",
    "        c = []\n",
    "        d = []\n",
    "        for k in zip(column_name_list[:]):\n",
    "            c.append(k[0][0:8])\n",
    "            d.append(k[0])\n",
    "\n",
    "        data = []\n",
    "        for j in range(0, len(column_name_list), len(band_name.value)):\n",
    "\n",
    "            date_str = data_temp.columns[j][:8]\n",
    "\n",
    "            # 检查日期格式并提取数据\n",
    "            if all(m.isdigit() for m in c[j:j+len(band_name.value)]) == True:\n",
    "                \n",
    "                # 提取数据\n",
    "                df = data_temp.loc[:, d[j:j+len(band_name.value)]]\n",
    "\n",
    "                df[file_name.value] = data_temp.loc[:, [file_name.value]]\n",
    "                                \n",
    "                # 创建新的日期和DOY列\n",
    "                df.insert(0, 'Date', '')\n",
    "                df['Date'] = date_format_concersion(date_str, output_format='%Y/%m/%d')\n",
    "                \n",
    "                df.insert(1, 'Doy', '')\n",
    "                df['Doy'] = datetime.strptime(date_str, '%Y%m%d').strftime('%j')\n",
    "                \n",
    "                # 重命名列\n",
    "                colnames = ['Date', 'Doy']\n",
    "                colnames.extend(list(band_name.value))\n",
    "                colnames.append(file_name.value)\n",
    "                df.columns = [colnames]\n",
    "                \n",
    "                data.append(df)\n",
    "            else:\n",
    "                continue\n",
    "\n",
    "    appended_data = pd.concat(data, axis=0, ignore_index=True)\n",
    "\n",
    "    appended_data.to_csv(out_dem_stats, index=False) #Output the file with date and doy back"
   ]
  },
  {
   "cell_type": "code",
   "execution_count": null,
   "metadata": {},
   "outputs": [],
   "source": [
    "cbind_era5(statics.value, out_dir, band_name.value, folder)"
   ]
  }
 ],
 "metadata": {
  "kernelspec": {
   "display_name": "Python 3",
   "language": "python",
   "name": "python3"
  },
  "language_info": {
   "codemirror_mode": {
    "name": "ipython",
    "version": 3
   },
   "file_extension": ".py",
   "mimetype": "text/x-python",
   "name": "python",
   "nbconvert_exporter": "python",
   "pygments_lexer": "ipython3",
   "version": "3.10.16"
  }
 },
 "nbformat": 4,
 "nbformat_minor": 4
}
