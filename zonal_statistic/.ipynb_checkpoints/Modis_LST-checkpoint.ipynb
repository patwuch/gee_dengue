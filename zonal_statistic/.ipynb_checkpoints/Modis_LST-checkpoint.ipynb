{
 "cells": [
  {
   "cell_type": "code",
   "execution_count": null,
   "id": "7ab85dc1",
   "metadata": {},
   "outputs": [],
   "source": [
    "from datetime import datetime, timedelta\n",
    "import os\n",
    "\n",
    "from ipyfilechooser import FileChooser\n",
    "import ipywidgets as widgets\n",
    "import pandas as pd\n",
    "import geemap\n",
    "import ee\n",
    "\n",
    "from setting.utils import SelectFilesButton, monthlist, date_format_concersion, read_shp_date_data, read_bands_statics, make_temp_file, cbind_modis_lst\n",
    "from setting.config import settings\n",
    "\n",
    "from setting.bands import lst_filter, lst_day, lst_night, lst_mean"
   ]
  },
  {
   "cell_type": "code",
   "execution_count": null,
   "id": "b1ab621b",
   "metadata": {},
   "outputs": [],
   "source": [
    "# After executing this line of code for the first use, you can get the authentication number linked to Google.\n",
    "Map = geemap.Map()\n",
    "# Authenticate the Google earth engine with google account\n",
    "ee.Initialize() "
   ]
  },
  {
   "cell_type": "code",
   "execution_count": null,
   "id": "6caf3ee7",
   "metadata": {},
   "outputs": [],
   "source": [
    "my_button = SelectFilesButton()\n",
    "my_button"
   ]
  },
  {
   "cell_type": "code",
   "execution_count": null,
   "id": "dd3fc2d1",
   "metadata": {},
   "outputs": [],
   "source": [
    "file_name, start, end = read_shp_date_data(my_button)\n",
    "widgets.HBox([file_name, start, end])"
   ]
  },
  {
   "cell_type": "code",
   "execution_count": null,
   "id": "6322bd60",
   "metadata": {},
   "outputs": [],
   "source": [
    "band_name, statics = read_bands_statics(settings.modis_lst_bands_list)\n",
    "widgets.HBox([band_name, statics])"
   ]
  },
  {
   "cell_type": "code",
   "execution_count": null,
   "id": "54b0cebd",
   "metadata": {},
   "outputs": [],
   "source": [
    "# give the output floder and flie name\n",
    "folder_name = make_temp_file('data_all_google_earth_engine_modis_lst')\n",
    "folder = FileChooser()\n",
    "display(folder)"
   ]
  },
  {
   "cell_type": "code",
   "execution_count": null,
   "id": "6f237161",
   "metadata": {},
   "outputs": [],
   "source": [
    "time_list = monthlist(start.value, end.value)\n",
    "states = geemap.shp_to_ee(\"\".join(my_button.files))\n",
    "\n",
    "Modis_LST = ee.ImageCollection('MODIS/061/MOD11A2') \\\n",
    "                      .filter(ee.Filter.date(datetime.strptime(start.value.strftime(\"%Y-%m-%d\"), \"%Y-%m-%d\"), datetime.strptime(end.value.strftime(\"%Y-%m-%d\"),\"%Y-%m-%d\")+timedelta(days=1))) \\\n",
    "                      .filterBounds(states) \\\n",
    "                      .map(lst_filter) \\\n",
    "                      .map(lst_day) \\\n",
    "                      .map(lst_night) \\\n",
    "                      .map(lst_mean) \\\n",
    "                      .select(list(band_name.value)) \\\n",
    "                      .map(lambda image: image.clip(states)) \\\n",
    "                      .map(lambda image: image.reproject(crs=settings.crs))\n",
    "\n",
    "\n",
    "Modis_LST.toBands()\n",
    "out_dir = os.path.expanduser(folder_name)\n",
    "out_dem_stats = os.path.join(out_dir, 'Modis_LST_{}.csv'.format(statics.value))\n",
    "\n",
    "if not os.path.exists(out_dir):\n",
    "        os.makedirs(out_dir)\n",
    "        \n",
    "geemap.zonal_statistics(Modis_LST, states, out_dem_stats, statistics_type=statics.value, scale=1000)\n",
    "\n",
    "data_temp = pd.read_csv(out_dem_stats)\n",
    "\n",
    "data = []\n",
    "\n",
    "column_name_list = data_temp.columns.tolist()\n",
    "c = []\n",
    "d = []\n",
    "\n",
    "for k in zip(column_name_list[:]):\n",
    "        c.append(k[0][0])\n",
    "        d.append(k[0])\n",
    "\n",
    "        data = []\n",
    "for j in range(0, len(column_name_list), len(band_name.value)):\n",
    "\n",
    "        date_str = data_temp.columns[j][:10]\n",
    "\n",
    "        # 检查日期格式并提取数据\n",
    "        if all(m.isdigit() for m in c[j:j+len(band_name.value)]) == True:\n",
    "                \n",
    "                # 提取数据\n",
    "                df = data_temp.loc[:, d[j:j+len(band_name.value)]]\n",
    "\n",
    "                df[file_name.value] = data_temp.loc[:, [file_name.value]]\n",
    "                                \n",
    "                # 创建新的日期和DOY列\n",
    "                df.insert(0, 'Date', '')\n",
    "                df['Date'] = date_format_concersion(date_str, output_format='%Y/%m/%d')\n",
    "\n",
    "                df.insert(1, 'Doy', '')\n",
    "                df['Doy'] = datetime.strptime(date_str, '%Y_%m_%d').strftime('%j')\n",
    "                \n",
    "                # 重命名列\n",
    "                colnames = ['Date', 'Doy']\n",
    "                colnames.extend(list(band_name.value))\n",
    "                colnames.append(file_name.value)\n",
    "                df.columns = [colnames]\n",
    "                \n",
    "                data.append(df)\n",
    "        else:\n",
    "                continue\n",
    "\n",
    "appended_data = pd.concat(data, axis=0, ignore_index=True)\n",
    "\n",
    "appended_data.to_csv(out_dem_stats, index=False) #Output the file with date and doy back"
   ]
  },
  {
   "cell_type": "code",
   "execution_count": null,
   "id": "f72ab1a2",
   "metadata": {},
   "outputs": [],
   "source": [
    "cbind_modis_lst(statics.value, out_dir, band_name.value, folder)"
   ]
  }
 ],
 "metadata": {
  "hide_input": false,
  "kernelspec": {
   "display_name": "Python 3",
   "language": "python",
   "name": "python3"
  },
  "language_info": {
   "codemirror_mode": {
    "name": "ipython",
    "version": 3
   },
   "file_extension": ".py",
   "mimetype": "text/x-python",
   "name": "python",
   "nbconvert_exporter": "python",
   "pygments_lexer": "ipython3",
   "version": "3.10.16"
  },
  "toc": {
   "base_numbering": 1,
   "nav_menu": {},
   "number_sections": true,
   "sideBar": true,
   "skip_h1_title": false,
   "title_cell": "Table of Contents",
   "title_sidebar": "Contents",
   "toc_cell": false,
   "toc_position": {},
   "toc_section_display": true,
   "toc_window_display": false
  }
 },
 "nbformat": 4,
 "nbformat_minor": 5
}
